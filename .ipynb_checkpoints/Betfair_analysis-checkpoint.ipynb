{
 "cells": [
  {
   "cell_type": "code",
   "execution_count": 183,
   "metadata": {
    "collapsed": true
   },
   "outputs": [],
   "source": [
    "import requests\n",
    "import bz2\n",
    "import json\n",
    "import glob\n",
    "import pandas as pd\n",
    "import datetime as dt"
   ]
  },
  {
   "cell_type": "code",
   "execution_count": 184,
   "metadata": {
    "collapsed": true
   },
   "outputs": [],
   "source": [
    "#http://docs.python-requests.org/en/master/user/quickstart/\n",
    "#https://github.com/liampauling/betfair/blob/master/betfairlightweight/endpoints/historic.py"
   ]
  },
  {
   "cell_type": "code",
   "execution_count": 185,
   "metadata": {
    "collapsed": true
   },
   "outputs": [],
   "source": [
    "teams = ['ADO Den Haag', 'Ajax', 'AZ Alkmaar', 'De Graafschap', 'Emmen', 'Excelsior', 'Feyenoord', 'Fortuna Sittard', \n",
    "         'Groningen', 'Heerenveen','Heracles', 'Breda', 'Zwolle', 'PSV', 'Utrecht', 'Vitesse', 'VVV','Willem II']"
   ]
  },
  {
   "cell_type": "code",
   "execution_count": 190,
   "metadata": {
    "collapsed": true
   },
   "outputs": [],
   "source": [
    "url = 'http://historicdata.betfair.com/api/DownloadListOfFiles'\n",
    "headers = {'ssoid': 'TOKEN'}\n",
    "\n",
    "data = {\"sport\":\"soccer\",\n",
    "    \"plan\":\"Basic Plan\",\n",
    "    \"fromDay\" : 1,\n",
    "    \"fromMonth\": 9,\n",
    "    \"fromYear\" : 2018,\n",
    "    \"toDay\": 30,\n",
    "    \"toMonth\" : 9,\n",
    "    \"toYear\": 2018,\n",
    "    \"eventId\": None,\n",
    "    \"eventName\": None,\n",
    "    \"marketTypesCollection\": [\"MATCH_ODDS\"],\n",
    "    \"countriesCollection\" : [\"NL\"],\n",
    "    \"fileTypeCollection\" : [\"M\"]}"
   ]
  },
  {
   "cell_type": "code",
   "execution_count": 191,
   "metadata": {
    "collapsed": true
   },
   "outputs": [],
   "source": [
    "# download the filenames\n",
    "response = requests.request(\"POST\", url, headers=headers,data = data)"
   ]
  },
  {
   "cell_type": "code",
   "execution_count": 192,
   "metadata": {
    "collapsed": true
   },
   "outputs": [],
   "source": [
    "file_names = response.text[1:-1].split(',')"
   ]
  },
  {
   "cell_type": "code",
   "execution_count": 193,
   "metadata": {},
   "outputs": [
    {
     "name": "stdout",
     "output_type": "stream",
     "text": [
      "\"/data/xds/historic/BASIC/28880276/1.147452117.bz2\"\n",
      "\"/data/xds/historic/BASIC/28868359/1.147085739.bz2\"\n",
      "There are 152 files\n"
     ]
    }
   ],
   "source": [
    "print(file_names[0])\n",
    "print(file_names[1])\n",
    "print(\"There are {} files\".format(len(file_names)))"
   ]
  },
  {
   "cell_type": "code",
   "execution_count": 194,
   "metadata": {
    "collapsed": true
   },
   "outputs": [],
   "source": [
    "# now download the actual data and store in /data\n",
    "file_name = file_names[0][1:-1]\n",
    "\n",
    "for i in file_names:\n",
    "    \n",
    "    file_name = i[1:-1]\n",
    "    \n",
    "    r = requests.get(\"http://historicdata.betfair.com/api/DownloadFile\",\n",
    "                params={'filePath': file_name},\n",
    "                headers=headers,\n",
    "                stream=True)\n",
    "\n",
    "    local_filename = 'data/' + file_name.split(\"/\")[-1]\n",
    "\n",
    "    with open(local_filename, 'wb') as f:\n",
    "        for chunk in r.iter_content(chunk_size=1024):\n",
    "            if chunk:\n",
    "                f.write(chunk)"
   ]
  },
  {
   "cell_type": "code",
   "execution_count": 195,
   "metadata": {},
   "outputs": [],
   "source": [
    "# read filennames in /data\n",
    "my_path = r'data/'+ '*.bz2'   \n",
    "l_filenames=glob.glob(my_path)"
   ]
  },
  {
   "cell_type": "code",
   "execution_count": 196,
   "metadata": {},
   "outputs": [
    {
     "name": "stdout",
     "output_type": "stream",
     "text": [
      "VVV v Heerenveen\n",
      "Excelsior v ADO Den Haag\n",
      "PSV v Willem II\n",
      "Fortuna Sittard v Utrecht\n",
      "Groningen v Zwolle\n",
      "Heracles v AZ Alkmaar\n",
      "Vitesse v Ajax\n",
      "Feyenoord v Breda\n",
      "Colchester v Southampton U21\n",
      "Crawley Town v Tottenham U21\n",
      "Grimsby v Notts Co\n",
      "Luton v Brighton U21\n",
      "Macclesfield v Blackpool\n",
      "MK Dons v Peterborough\n",
      "Rochdale v Bury\n",
      "Sunderland v Stoke U21\n",
      "Northampton v Wycombe\n",
      "Oldham v Barnsley\n",
      "Burton v Walsall\n",
      "Oxford Utd v Fulham U21\n",
      "Southend v Cambridge Utd\n",
      "Forest Green v Cheltenham\n",
      "Charlton v AFC Wimbledon\n",
      "Portsmouth v Gillingham\n",
      "Carlisle v Morecambe\n",
      "Tranmere v Crewe\n",
      "Scunthorpe v Wolves U21\n",
      "Helmond Sport v Den Bosch\n",
      "Twente v TOP Oss\n",
      "Roda JC v NEC Nijmegen\n",
      "Almere City v MVV Maastricht\n",
      "Go Ahead Eagles v Volendam\n",
      "Jong Utrecht v Jong PSV\n",
      "Sparta Rotterdam v FC Eindhoven\n",
      "Dordrecht v Telstar\n",
      "Cambuur v Waalwijk\n",
      "Vitesse Arnhem U19 v Sparta Rotterdam U19\n",
      "Ajax v AEK Athens\n",
      "FC Viktoria Plzen v CSKA Moscow\n",
      "FC Lienden v De Treffers\n",
      "RKC Waalwijk (Res) v Willem II Tilburg (Res)\n",
      "Jong AZ Alkmaar v Jong Ajax\n",
      "Heracles v De Graafschap\n",
      "Fortuna Sittard v Willem II\n",
      "Excelsior v Heerenveen\n",
      "VVV v Breda\n",
      "Emmen v Zwolle\n",
      "Groningen v AZ Alkmaar\n",
      "Vitesse v ADO Den Haag\n",
      "PSV v Ajax\n",
      "Netherlands U21 v Scotland U21\n",
      "FC Dordrecht (Res) v Roda JC Kerkrade (Res)\n",
      "Excelsior-Bdrect (W) v ADO Den Haag (W)\n",
      "Twente (W) v PSV (W)\n",
      "VV Alkmaar (W) v Achilles 29 (W)\n",
      "Ajax (W) v Zwolle (W)\n",
      "Cambuur v Telstar\n",
      "Waalwijk v Roda JC\n",
      "NEC Nijmegen v Jong PSV\n",
      "Jong AZ Alkmaar v Go Ahead Eagles\n",
      "Volendam v TOP Oss\n",
      "Almere City v Jong Utrecht\n",
      "FC Eindhoven v MVV Maastricht\n",
      "Dordrecht v Twente\n",
      "Zwolle (W) v Twente (W)\n",
      "Achilles 29 (W) v Heerenveen (W)\n",
      "De Treffers v Barendrecht\n",
      "VVSB v HHC\n",
      "Koninklijke HFC v AFC\n",
      "Jong Ajax v Helmond Sport\n",
      "Ajax U19 v AEK Athens U19\n",
      "PSV (W) v VV Alkmaar (W)\n",
      "Den Bosch v Almere City\n",
      "Heerenveen (W) v PSV (W)\n",
      "Excelsior-Bdrect (W) v Achilles 29 (W)\n",
      "Twente (W) v Ajax (W)\n",
      "VV Alkmaar (W) v Zwolle (W)\n",
      "Waalwijk v Jong AZ Alkmaar\n",
      "TOP Oss v Sparta Rotterdam\n",
      "Jong PSV v Volendam\n",
      "Helmond Sport v NEC Nijmegen\n",
      "Go Ahead Eagles v Jong Ajax\n",
      "Telstar v Twente\n",
      "Jong Utrecht v Cambuur\n",
      "Roda JC v FC Eindhoven\n",
      "MVV Maastricht v Dordrecht\n",
      "Roda JC Kerkrade (Res) v NAC Breda (Res)\n",
      "SBV Excelsior (Res) v Fortuna Sittard (Res)\n",
      "Go Ahead Eagles (Res) v FC Emmen (Res)\n",
      "De Graafschap (Res) v Heracles Almelo (Res)\n",
      "SC Cambuur (Res) v Twente (Res)\n",
      "ADO Den Haag (Res) v RKC Waalwijk (Res)\n",
      "Willem II Tilburg (Res) v FC Eindhoven (Res)\n",
      "Helmond Sport (Res) v FC Dordrecht (Res)\n",
      "Excelsior v NEC Nijmegen\n",
      "Volendam v Willem II\n",
      "Westlandia v VVV\n",
      "VVSB v De Graafschap\n",
      "Koninklijke HFC v Harkemase Boys\n",
      "Den Bosch v Heracles\n",
      "Rijnsburgse Boys v TOP Oss\n",
      "Odin 59 v FC Lisse\n",
      "Spakenburg v sv DFS\n",
      "DVS 33 v Roda JC\n",
      "Helmond Sport v Fortuna Sittard\n",
      "Almere City v Dordrecht\n",
      "Waalwijk v Breda\n",
      "AFC v Telstar\n",
      "Go Ahead Eagles v FC Eindhoven\n",
      "Scheveningen v Cambuur\n",
      "Noordwijk v Sparta Rotterdam\n",
      "Kozakken Boys v ONS Sneek\n",
      "Heerenveen v ADO Den Haag\n",
      "Breda v PSV\n",
      "Excelsior v VVV\n",
      "Fortuna Sittard v Ajax\n",
      "Heracles v Emmen\n",
      "De Graafschap v Willem II\n",
      "AZ Alkmaar v Zwolle\n",
      "Groningen v Utrecht\n",
      "Feyenoord v Vitesse\n",
      "Groningen v Twente\n",
      "OFC Oostzaan v Emmen\n",
      "Alcides v AZ Alkmaar\n",
      "Utrecht v MVV Maastricht\n",
      "Gemert v Feyenoord\n",
      "Groene Ster v TEC\n",
      "Staphorst v Zwolle\n",
      "DOVO v SV Urk\n",
      "Eemdijk v ASWH\n",
      "RKAV Volendam v Vitesse\n",
      "HVV Te Werve v Ajax\n",
      "Katwijk v Heerenveen\n",
      "OJC Rosmalen v ADO Den Haag\n",
      "Zwolle (W) v Heerenveen (W)\n",
      "ADO Den Haag (W) v Twente (W)\n",
      "PSV (W) v Excelsior-Bdrect (W)\n",
      "Sparta Rotterdam v Dordrecht\n",
      "Almere City v Waalwijk\n",
      "NEC Nijmegen v Go Ahead Eagles\n",
      "Helmond Sport v Volendam\n",
      "Den Bosch v Jong AZ Alkmaar\n",
      "Cambuur v Roda JC\n",
      "Jong Ajax v FC Eindhoven\n",
      "Telstar v TOP Oss\n",
      "Twente v Jong PSV\n",
      "Ajax (W) v VV Alkmaar (W)\n",
      "Ajax U19 v PSV U19\n",
      "FC Groningen U19 v NEC Nijmegen U19\n",
      "Vitesse Arnhem U19 v Willem II Tilburg U19\n",
      "Feyenoord U19 v FC Utrecht U19\n",
      "NAC Breda U19 v ADO Den Haag U19\n"
     ]
    }
   ],
   "source": [
    "for i in l_filenames:\n",
    "    \n",
    "    bz_file = bz2.BZ2File(i)\n",
    "    line_list = bz_file.readlines()\n",
    "    \n",
    "    # only interested in the first line for now\n",
    "    a = line_list[0].decode('ASCII').strip()\n",
    "    d = json.loads(a)\n",
    "    print(d['mc'][0]['marketDefinition']['eventName'])"
   ]
  },
  {
   "cell_type": "code",
   "execution_count": 304,
   "metadata": {},
   "outputs": [
    {
     "name": "stdout",
     "output_type": "stream",
     "text": [
      "{\n",
      "    \"clk\": \"7322816171\",\n",
      "    \"mc\": [\n",
      "        {\n",
      "            \"id\": \"1.147085971\",\n",
      "            \"marketDefinition\": {\n",
      "                \"betDelay\": 0,\n",
      "                \"bettingType\": \"ODDS\",\n",
      "                \"bspMarket\": false,\n",
      "                \"bspReconciled\": false,\n",
      "                \"complete\": true,\n",
      "                \"countryCode\": \"NL\",\n",
      "                \"crossMatching\": true,\n",
      "                \"discountAllowed\": true,\n",
      "                \"eventId\": \"28868361\",\n",
      "                \"eventName\": \"PSV v Willem II\",\n",
      "                \"eventTypeId\": \"1\",\n",
      "                \"inPlay\": false,\n",
      "                \"marketBaseRate\": 5.0,\n",
      "                \"marketTime\": \"2018-09-01T17:45:00.000Z\",\n",
      "                \"marketType\": \"MATCH_ODDS\",\n",
      "                \"name\": \"Match Odds\",\n",
      "                \"numberOfActiveRunners\": 3,\n",
      "                \"numberOfWinners\": 1,\n",
      "                \"openDate\": \"2018-09-01T17:45:00.000Z\",\n",
      "                \"persistenceEnabled\": true,\n",
      "                \"regulators\": [\n",
      "                    \"MR_INT\"\n",
      "                ],\n",
      "                \"runners\": [\n",
      "                    {\n",
      "                        \"id\": 48451,\n",
      "                        \"name\": \"PSV\",\n",
      "                        \"sortPriority\": 1,\n",
      "                        \"status\": \"ACTIVE\"\n",
      "                    },\n",
      "                    {\n",
      "                        \"id\": 48455,\n",
      "                        \"name\": \"Willem II\",\n",
      "                        \"sortPriority\": 2,\n",
      "                        \"status\": \"ACTIVE\"\n",
      "                    },\n",
      "                    {\n",
      "                        \"id\": 58805,\n",
      "                        \"name\": \"The Draw\",\n",
      "                        \"sortPriority\": 3,\n",
      "                        \"status\": \"ACTIVE\"\n",
      "                    }\n",
      "                ],\n",
      "                \"runnersVoidable\": false,\n",
      "                \"status\": \"OPEN\",\n",
      "                \"suspendTime\": \"2018-09-01T17:45:00.000Z\",\n",
      "                \"timezone\": \"Europe/London\",\n",
      "                \"turnInPlayEnabled\": true,\n",
      "                \"version\": 2371332231\n",
      "            }\n",
      "        }\n",
      "    ],\n",
      "    \"op\": \"mcm\",\n",
      "    \"pt\": 1535441597306\n",
      "}\n"
     ]
    }
   ],
   "source": [
    "# have a look at the FIRST line (=dict) of the file\n",
    "bz_file = bz2.BZ2File(l_filenames[2])\n",
    "line_list = bz_file.readlines()\n",
    "\n",
    "# only interested in the first line for now\n",
    "a = line_list[0].decode('ASCII').strip()\n",
    "d = json.loads(a)\n",
    "\n",
    "# prety print it a bit\n",
    "print(json.dumps(d, sort_keys=True, indent=4))"
   ]
  },
  {
   "cell_type": "markdown",
   "metadata": {},
   "source": [
    "- eventName: the name of the event\n",
    "- inPLay: True if the market if currenty in play\n",
    "- openDate: scheduled datetime of the event in GMT (=utc)\n",
    "- marketTime: the market strart time\n",
    "- mc: Market change - Changes to market prices, runners or market definitions\n",
    "- status of the market, for example OPEN, SUSPENDEDm CLOSED\n",
    "- runners:[\"id\"] --> ID of the runner\n",
    "- runners --> status of the selection ACTIVE, REMOVED, WINNER, PLACED, LOSER, HIDDEN\n",
    "- game is PSV- Willem 2 starting 17:45 (utc)"
   ]
  },
  {
   "cell_type": "code",
   "execution_count": 307,
   "metadata": {},
   "outputs": [
    {
     "data": {
      "text/plain": [
       "58805"
      ]
     },
     "execution_count": 307,
     "metadata": {},
     "output_type": "execute_result"
    }
   ],
   "source": [
    "# get id of the draw\n",
    "d['mc'][0]['marketDefinition']['runners'][2]['id']"
   ]
  },
  {
   "cell_type": "code",
   "execution_count": 198,
   "metadata": {},
   "outputs": [
    {
     "name": "stdout",
     "output_type": "stream",
     "text": [
      "{\n",
      "    \"clk\": \"7323153647\",\n",
      "    \"mc\": [\n",
      "        {\n",
      "            \"id\": \"1.147085971\",\n",
      "            \"rc\": [\n",
      "                {\n",
      "                    \"id\": 48451,\n",
      "                    \"ltp\": 1.14\n",
      "                }\n",
      "            ]\n",
      "        }\n",
      "    ],\n",
      "    \"op\": \"mcm\",\n",
      "    \"pt\": 1535448333615\n",
      "}\n"
     ]
    }
   ],
   "source": [
    "# have a look at the SECOND line (=dict) of the file\n",
    "bz_file = bz2.BZ2File(l_filenames[2])\n",
    "line_list = bz_file.readlines()\n",
    "\n",
    "# only interested in the first line for now\n",
    "a = line_list[1].decode('ASCII').strip()\n",
    "d = json.loads(a)\n",
    "\n",
    "# prety print it a bit\n",
    "print(json.dumps(d, sort_keys=True, indent=4))"
   ]
  },
  {
   "cell_type": "markdown",
   "metadata": {},
   "source": [
    "- id: id of the runner\n",
    "- ltp: last traded price\n",
    "- pt: published time in epochs "
   ]
  },
  {
   "cell_type": "code",
   "execution_count": 199,
   "metadata": {},
   "outputs": [
    {
     "name": "stdout",
     "output_type": "stream",
     "text": [
      "1535448333615\n",
      "<class 'int'>\n"
     ]
    }
   ],
   "source": [
    "# so when was the first bet done?\n",
    "print(d['pt'])\n",
    "print(type(d['pt']))"
   ]
  },
  {
   "cell_type": "code",
   "execution_count": 200,
   "metadata": {},
   "outputs": [
    {
     "name": "stdout",
     "output_type": "stream",
     "text": [
      "2018-09-01 17:55:23.408000\n"
     ]
    }
   ],
   "source": [
    "ts = int(\"1535824523408\")\n",
    "#ts = int(d['pt'])\n",
    "#print(dt.datetime.utcfromtimestamp(ts/1000).strftime('%Y-%m-%d %H:%M:%S'))\n",
    "print(dt.datetime.utcfromtimestamp(ts/1000))"
   ]
  },
  {
   "cell_type": "code",
   "execution_count": 201,
   "metadata": {},
   "outputs": [
    {
     "name": "stdout",
     "output_type": "stream",
     "text": [
      "{\n",
      "    \"clk\": \"7336733947\",\n",
      "    \"mc\": [\n",
      "        {\n",
      "            \"id\": \"1.147085971\",\n",
      "            \"rc\": [\n",
      "                {\n",
      "                    \"id\": 58805,\n",
      "                    \"ltp\": 6.0\n",
      "                }\n",
      "            ]\n",
      "        }\n",
      "    ],\n",
      "    \"op\": \"mcm\",\n",
      "    \"pt\": 1535605632306\n",
      "}\n"
     ]
    }
   ],
   "source": [
    "# let's check line 4\n",
    "# have a look at the line (=dict) of the file\n",
    "bz_file = bz2.BZ2File(l_filenames[2])\n",
    "line_list = bz_file.readlines()\n",
    "\n",
    "# only interested in the first line for now\n",
    "a = line_list[4].decode('ASCII').strip()\n",
    "d = json.loads(a)\n",
    "\n",
    "# prety print it a bit\n",
    "print(json.dumps(d, sort_keys=True, indent=4))"
   ]
  },
  {
   "cell_type": "code",
   "execution_count": 202,
   "metadata": {},
   "outputs": [
    {
     "data": {
      "text/plain": [
       "{'id': 58805, 'ltp': 6.0}"
      ]
     },
     "execution_count": 202,
     "metadata": {},
     "output_type": "execute_result"
    }
   ],
   "source": [
    "# the id = 588505 is the draw event\n",
    "d['mc'][0]['rc'][0]"
   ]
  },
  {
   "cell_type": "code",
   "execution_count": 203,
   "metadata": {
    "scrolled": true
   },
   "outputs": [
    {
     "name": "stdout",
     "output_type": "stream",
     "text": [
      "{\n",
      "    \"clk\": \"7352685796\",\n",
      "    \"mc\": [\n",
      "        {\n",
      "            \"id\": \"1.147085971\",\n",
      "            \"rc\": [\n",
      "                {\n",
      "                    \"id\": 58805,\n",
      "                    \"ltp\": 7.6\n",
      "                },\n",
      "                {\n",
      "                    \"id\": 48451,\n",
      "                    \"ltp\": 1.24\n",
      "                },\n",
      "                {\n",
      "                    \"id\": 48455,\n",
      "                    \"ltp\": 17.0\n",
      "                }\n",
      "            ]\n",
      "        }\n",
      "    ],\n",
      "    \"op\": \"mcm\",\n",
      "    \"pt\": 1535775559100\n",
      "}\n"
     ]
    }
   ],
   "source": [
    "# let's check line 20\n",
    "# have a look at the line (=dict) of the file\n",
    "bz_file = bz2.BZ2File(l_filenames[2])\n",
    "line_list = bz_file.readlines()\n",
    "\n",
    "# only interested in the first line for now\n",
    "a = line_list[18].decode('ASCII').strip()\n",
    "d = json.loads(a)\n",
    "\n",
    "# prety print it a bit\n",
    "print(json.dumps(d, sort_keys=True, indent=4))"
   ]
  },
  {
   "cell_type": "code",
   "execution_count": 204,
   "metadata": {},
   "outputs": [
    {
     "data": {
      "text/plain": [
       "{'id': 58805, 'ltp': 7.6}"
      ]
     },
     "execution_count": 204,
     "metadata": {},
     "output_type": "execute_result"
    }
   ],
   "source": [
    "# the id = 588505 is the draw event\n",
    "d['mc'][0]['rc'][0]"
   ]
  },
  {
   "cell_type": "code",
   "execution_count": 205,
   "metadata": {},
   "outputs": [
    {
     "data": {
      "text/plain": [
       "1535775559100"
      ]
     },
     "execution_count": 205,
     "metadata": {},
     "output_type": "execute_result"
    }
   ],
   "source": [
    "# get the time\n",
    "d['pt']"
   ]
  },
  {
   "cell_type": "code",
   "execution_count": 206,
   "metadata": {},
   "outputs": [
    {
     "data": {
      "text/plain": [
       "58805"
      ]
     },
     "execution_count": 206,
     "metadata": {},
     "output_type": "execute_result"
    }
   ],
   "source": [
    "d['mc'][0]['rc'][0]['id']"
   ]
  },
  {
   "cell_type": "code",
   "execution_count": 207,
   "metadata": {},
   "outputs": [],
   "source": [
    "# make function to retrieve ltp\n",
    "def get_ltp_of_runner(list_of_dicts, runner_id):\n",
    "    for i in list_of_dicts:\n",
    "        if i['id'] == runner_id:\n",
    "            return i['ltp']\n",
    "        else:\n",
    "            return None"
   ]
  },
  {
   "cell_type": "code",
   "execution_count": 208,
   "metadata": {},
   "outputs": [
    {
     "name": "stdout",
     "output_type": "stream",
     "text": [
      "7.6\n"
     ]
    }
   ],
   "source": [
    "# testing the function\n",
    "print (get_ltp_of_runner(d['mc'][0]['rc'],58805))"
   ]
  },
  {
   "cell_type": "code",
   "execution_count": 294,
   "metadata": {},
   "outputs": [
    {
     "name": "stdout",
     "output_type": "stream",
     "text": [
      "{\n",
      "    \"clk\": \"7362323982\",\n",
      "    \"mc\": [\n",
      "        {\n",
      "            \"id\": \"1.147085971\",\n",
      "            \"marketDefinition\": {\n",
      "                \"betDelay\": 5,\n",
      "                \"bettingType\": \"ODDS\",\n",
      "                \"bspMarket\": false,\n",
      "                \"bspReconciled\": false,\n",
      "                \"complete\": true,\n",
      "                \"countryCode\": \"NL\",\n",
      "                \"crossMatching\": false,\n",
      "                \"discountAllowed\": true,\n",
      "                \"eventId\": \"28868361\",\n",
      "                \"eventName\": \"PSV v Willem II\",\n",
      "                \"eventTypeId\": \"1\",\n",
      "                \"inPlay\": true,\n",
      "                \"marketBaseRate\": 5.0,\n",
      "                \"marketTime\": \"2018-09-01T17:45:00.000Z\",\n",
      "                \"marketType\": \"MATCH_ODDS\",\n",
      "                \"name\": \"Match Odds\",\n",
      "                \"numberOfActiveRunners\": 0,\n",
      "                \"numberOfWinners\": 1,\n",
      "                \"openDate\": \"2018-09-01T17:45:00.000Z\",\n",
      "                \"persistenceEnabled\": true,\n",
      "                \"regulators\": [\n",
      "                    \"MR_INT\"\n",
      "                ],\n",
      "                \"runners\": [\n",
      "                    {\n",
      "                        \"id\": 48451,\n",
      "                        \"name\": \"PSV\",\n",
      "                        \"sortPriority\": 1,\n",
      "                        \"status\": \"WINNER\"\n",
      "                    },\n",
      "                    {\n",
      "                        \"id\": 48455,\n",
      "                        \"name\": \"Willem II\",\n",
      "                        \"sortPriority\": 2,\n",
      "                        \"status\": \"LOSER\"\n",
      "                    },\n",
      "                    {\n",
      "                        \"id\": 58805,\n",
      "                        \"name\": \"The Draw\",\n",
      "                        \"sortPriority\": 3,\n",
      "                        \"status\": \"LOSER\"\n",
      "                    }\n",
      "                ],\n",
      "                \"runnersVoidable\": false,\n",
      "                \"settledTime\": \"2018-09-01T19:37:07.000Z\",\n",
      "                \"status\": \"CLOSED\",\n",
      "                \"suspendTime\": \"2018-09-01T17:45:00.000Z\",\n",
      "                \"timezone\": \"Europe/London\",\n",
      "                \"turnInPlayEnabled\": true,\n",
      "                \"version\": 2379617240\n",
      "            }\n",
      "        }\n",
      "    ],\n",
      "    \"op\": \"mcm\",\n",
      "    \"pt\": 1535830641855\n",
      "}\n"
     ]
    }
   ],
   "source": [
    "# have a look at the LAST line (=dict) of the file\n",
    "bz_file = bz2.BZ2File(l_filenames[2])\n",
    "line_list = bz_file.readlines()\n",
    "\n",
    "# only interested in the first line for now\n",
    "a = line_list[-1].decode('ASCII').strip()\n",
    "d = json.loads(a)\n",
    "\n",
    "# prety print it a bit\n",
    "print(json.dumps(d, sort_keys=True, indent=4))"
   ]
  },
  {
   "cell_type": "markdown",
   "metadata": {},
   "source": [
    "- PSV has status WINNER"
   ]
  },
  {
   "cell_type": "code",
   "execution_count": 295,
   "metadata": {},
   "outputs": [
    {
     "data": {
      "text/plain": [
       "True"
      ]
     },
     "execution_count": 295,
     "metadata": {},
     "output_type": "execute_result"
    }
   ],
   "source": [
    "d['mc'][0]['marketDefinition']['inPlay']"
   ]
  },
  {
   "cell_type": "code",
   "execution_count": 211,
   "metadata": {},
   "outputs": [
    {
     "name": "stdout",
     "output_type": "stream",
     "text": [
      "line does not contain a runner change\n"
     ]
    }
   ],
   "source": [
    "# testing the function\n",
    "if 'rc' in d['mc'][0]:\n",
    "    print (get_ltp_of_runner(d['mc'][0]['rc'],58805))\n",
    "else:\n",
    "    print('line does not contain a runner change')"
   ]
  },
  {
   "cell_type": "code",
   "execution_count": 212,
   "metadata": {
    "collapsed": true
   },
   "outputs": [],
   "source": [
    "def game_info(line_list):\n",
    "    a = line_list[-1].decode('ASCII').strip()\n",
    "    d = json.loads(a)\n",
    "    dd={}\n",
    "    dd['eventName']=d['mc'][0]['marketDefinition']['eventName']\n",
    "    dd['marketTime']=d['mc'][0]['marketDefinition']['marketTime']\n",
    "    return dd"
   ]
  },
  {
   "cell_type": "code",
   "execution_count": 312,
   "metadata": {
    "collapsed": true
   },
   "outputs": [],
   "source": [
    "def get_id_the_draw(line_list):\n",
    "    a = line_list[0].decode('ASCII').strip()\n",
    "    d = json.loads(a)\n",
    "    draw_id = d['mc'][0]['marketDefinition']['runners'][2]['id']\n",
    "    return draw_id"
   ]
  },
  {
   "cell_type": "code",
   "execution_count": 313,
   "metadata": {},
   "outputs": [
    {
     "data": {
      "text/plain": [
       "58805"
      ]
     },
     "execution_count": 313,
     "metadata": {},
     "output_type": "execute_result"
    }
   ],
   "source": [
    "# test function\n",
    "get_id_the_draw(line_list)"
   ]
  },
  {
   "cell_type": "code",
   "execution_count": 314,
   "metadata": {
    "collapsed": true
   },
   "outputs": [],
   "source": [
    "# trading parm\n",
    "stop_profit = 0.25\n",
    "draw_low = 2.75\n",
    "draw_high = 4.25"
   ]
  },
  {
   "cell_type": "code",
   "execution_count": 322,
   "metadata": {},
   "outputs": [
    {
     "name": "stdout",
     "output_type": "stream",
     "text": [
      "{'marketTime': '2018-09-01T16:30:00.000Z', 'eventName': 'VVV v Heerenveen'}\n",
      "{'marketTime': '2018-09-01T17:45:00.000Z', 'eventName': 'Excelsior v ADO Den Haag'}\n",
      "{'marketTime': '2018-09-01T18:45:00.000Z', 'eventName': 'Fortuna Sittard v Utrecht'}\n",
      "{'marketTime': '2018-09-02T10:15:00.000Z', 'eventName': 'Groningen v Zwolle'}\n",
      "{'marketTime': '2018-09-02T12:30:00.000Z', 'eventName': 'Heracles v AZ Alkmaar'}\n",
      "{'marketTime': '2018-09-04T18:45:00.000Z', 'eventName': 'Colchester v Southampton U21'}\n",
      "{'marketTime': '2018-09-04T18:45:00.000Z', 'eventName': 'Crawley Town v Tottenham U21'}\n",
      "{'marketTime': '2018-09-04T18:45:00.000Z', 'eventName': 'Grimsby v Notts Co'}\n",
      "{'marketTime': '2018-09-04T18:45:00.000Z', 'eventName': 'Macclesfield v Blackpool'}\n",
      "{'marketTime': '2018-09-04T18:45:00.000Z', 'eventName': 'Rochdale v Bury'}\n",
      "{'marketTime': '2018-09-04T18:45:00.000Z', 'eventName': 'Northampton v Wycombe'}\n",
      "{'marketTime': '2018-09-04T18:45:00.000Z', 'eventName': 'Burton v Walsall'}\n",
      "{'marketTime': '2018-09-04T18:45:00.000Z', 'eventName': 'Southend v Cambridge Utd'}\n",
      "{'marketTime': '2018-09-04T18:30:00.000Z', 'eventName': 'Forest Green v Cheltenham'}\n",
      "{'marketTime': '2018-09-04T18:45:00.000Z', 'eventName': 'Charlton v AFC Wimbledon'}\n",
      "{'marketTime': '2018-09-04T18:45:00.000Z', 'eventName': 'Tranmere v Crewe'}\n",
      "{'marketTime': '2018-09-07T18:00:00.000Z', 'eventName': 'Helmond Sport v Den Bosch'}\n",
      "{'marketTime': '2018-09-08T16:30:00.000Z', 'eventName': 'Twente v TOP Oss'}\n",
      "{'marketTime': '2018-09-08T18:45:00.000Z', 'eventName': 'Roda JC v NEC Nijmegen'}\n",
      "{'marketTime': '2018-09-07T18:00:00.000Z', 'eventName': 'Dordrecht v Telstar'}\n",
      "{'marketTime': '2018-09-19T19:00:00.000Z', 'eventName': 'FC Viktoria Plzen v CSKA Moscow'}\n",
      "{'marketTime': '2018-09-02T12:30:00.000Z', 'eventName': 'FC Lienden v De Treffers'}\n",
      "{'marketTime': '2018-09-10T18:00:00.000Z', 'eventName': 'Jong AZ Alkmaar v Jong Ajax'}\n",
      "{'marketTime': '2018-09-22T16:30:00.000Z', 'eventName': 'Fortuna Sittard v Willem II'}\n",
      "{'marketTime': '2018-09-22T17:45:00.000Z', 'eventName': 'Excelsior v Heerenveen'}\n",
      "{'marketTime': '2018-09-22T17:45:00.000Z', 'eventName': 'VVV v Breda'}\n",
      "{'marketTime': '2018-09-23T12:30:00.000Z', 'eventName': 'Emmen v Zwolle'}\n",
      "{'marketTime': '2018-09-23T12:30:00.000Z', 'eventName': 'Groningen v AZ Alkmaar'}\n",
      "{'marketTime': '2018-09-23T14:45:00.000Z', 'eventName': 'PSV v Ajax'}\n",
      "{'marketTime': '2018-09-07T17:30:00.000Z', 'eventName': 'Excelsior-Bdrect (W) v ADO Den Haag (W)'}\n",
      "{'marketTime': '2018-09-07T17:30:00.000Z', 'eventName': 'Twente (W) v PSV (W)'}\n",
      "{'marketTime': '2018-09-14T18:00:00.000Z', 'eventName': 'Waalwijk v Roda JC'}\n",
      "{'marketTime': '2018-09-14T18:00:00.000Z', 'eventName': 'Jong AZ Alkmaar v Go Ahead Eagles'}\n",
      "{'marketTime': '2018-09-14T18:00:00.000Z', 'eventName': 'FC Eindhoven v MVV Maastricht'}\n",
      "{'marketTime': '2018-09-14T17:30:00.000Z', 'eventName': 'Zwolle (W) v Twente (W)'}\n",
      "{'marketTime': '2018-09-08T16:00:00.000Z', 'eventName': 'De Treffers v Barendrecht'}\n",
      "{'marketTime': '2018-09-21T18:00:00.000Z', 'eventName': 'Den Bosch v Almere City'}\n",
      "{'marketTime': '2018-09-21T18:00:00.000Z', 'eventName': 'TOP Oss v Sparta Rotterdam'}\n",
      "{'marketTime': '2018-09-17T16:30:00.000Z', 'eventName': 'Roda JC Kerkrade (Res) v NAC Breda (Res)'}\n",
      "{'marketTime': '2018-09-18T16:30:00.000Z', 'eventName': 'Helmond Sport (Res) v FC Dordrecht (Res)'}\n",
      "{'marketTime': '2018-09-25T18:45:00.000Z', 'eventName': 'Excelsior v NEC Nijmegen'}\n",
      "{'marketTime': '2018-09-25T17:45:00.000Z', 'eventName': 'Den Bosch v Heracles'}\n",
      "{'marketTime': '2018-09-25T16:30:00.000Z', 'eventName': 'Waalwijk v Breda'}\n",
      "{'marketTime': '2018-09-25T15:00:00.000Z', 'eventName': 'AFC v Telstar'}\n",
      "{'marketTime': '2018-09-25T17:45:00.000Z', 'eventName': 'Go Ahead Eagles v FC Eindhoven'}\n",
      "{'marketTime': '2018-09-29T16:30:00.000Z', 'eventName': 'Heerenveen v ADO Den Haag'}\n",
      "{'marketTime': '2018-09-29T18:45:00.000Z', 'eventName': 'Excelsior v VVV'}\n",
      "{'marketTime': '2018-09-30T12:30:00.000Z', 'eventName': 'De Graafschap v Willem II'}\n",
      "{'marketTime': '2018-09-30T12:30:00.000Z', 'eventName': 'Groningen v Utrecht'}\n",
      "{'marketTime': '2018-09-27T16:30:00.000Z', 'eventName': 'Groningen v Twente'}\n",
      "{'marketTime': '2018-09-28T17:30:00.000Z', 'eventName': 'Zwolle (W) v Heerenveen (W)'}\n",
      "{'marketTime': '2018-09-28T18:00:00.000Z', 'eventName': 'Sparta Rotterdam v Dordrecht'}\n",
      "{'marketTime': '2018-09-28T18:00:00.000Z', 'eventName': 'Helmond Sport v Volendam'}\n",
      "{'marketTime': '2018-09-28T18:00:00.000Z', 'eventName': 'Cambuur v Roda JC'}\n",
      "{'marketTime': '2018-09-30T12:30:00.000Z', 'eventName': 'Twente v Jong PSV'}\n",
      "{'marketTime': '2018-09-26T15:00:00.000Z', 'eventName': 'FC Groningen U19 v NEC Nijmegen U19'}\n"
     ]
    }
   ],
   "source": [
    "# read file\n",
    "cumPnL = 0\n",
    "\n",
    "for j in l_filenames:\n",
    "    #bz_file = bz2.BZ2File(l_filenames[20])\n",
    "    bz_file = bz2.BZ2File(j)\n",
    "    line_list = bz_file.readlines()\n",
    "\n",
    "    ll = []\n",
    "    game_started = False\n",
    "    d_gameinfo = game_info(line_list)\n",
    "    draw_id = get_id_the_draw(line_list)\n",
    "    \n",
    "    for i in line_list:\n",
    "        a = i.decode('ASCII').strip()\n",
    "        d = json.loads(a)\n",
    "\n",
    "        # only save odds when game started\n",
    "        if game_started == False:\n",
    "            if 'marketDefinition' in d['mc'][0]:\n",
    "                if d['mc'][0]['marketDefinition']['inPlay'] == True:\n",
    "                    game_started = True\n",
    "\n",
    "        if game_started == True:\n",
    "            if 'rc' in d['mc'][0]:\n",
    "\n",
    "                ltp = get_ltp_of_runner(d['mc'][0]['rc'],draw_id)\n",
    "                datetime_utc = dt.datetime.utcfromtimestamp(d['pt']/1000)\n",
    "\n",
    "                # only save when there is price for The draw \n",
    "                if ltp:\n",
    "                    ll.append({'datetime_utc':datetime_utc,'The Draw':ltp})\n",
    "\n",
    "    df = pd.DataFrame(ll)  \n",
    "    #print(j)\n",
    "    #print(draw_id)\n",
    "    if game_started == True and ll:\n",
    "        if df['The Draw'][0]>draw_low and df['The Draw'][0]<draw_high: \n",
    "            print(d_gameinfo)\n",
    "            PnL = calc_pnL_lay_the_draw()\n",
    "            cumPnL = PnL + cumPnL\n",
    "            #print('PnL is {} and cumPnL is {}'.format(PnL,cumPnL))"
   ]
  },
  {
   "cell_type": "code",
   "execution_count": 292,
   "metadata": {
    "collapsed": true
   },
   "outputs": [],
   "source": [
    "def calc_pnL_lay_the_draw():\n",
    "    tradeprice = df['The Draw'][0]\n",
    "    df['PnL_lay_draw'] = 1- tradeprice/df['The Draw']\n",
    "    \n",
    "    idx = df['PnL_lay_draw'] > stop_profit\n",
    "    if sum(idx)>0:\n",
    "        PnL = df['PnL_lay_draw'][idx.idxmax()]\n",
    "    else:\n",
    "        PnL = -1\n",
    "    return PnL"
   ]
  }
 ],
 "metadata": {
  "kernelspec": {
   "display_name": "Python [conda root]",
   "language": "python",
   "name": "conda-root-py"
  },
  "language_info": {
   "codemirror_mode": {
    "name": "ipython",
    "version": 3
   },
   "file_extension": ".py",
   "mimetype": "text/x-python",
   "name": "python",
   "nbconvert_exporter": "python",
   "pygments_lexer": "ipython3",
   "version": "3.5.3"
  }
 },
 "nbformat": 4,
 "nbformat_minor": 2
}
