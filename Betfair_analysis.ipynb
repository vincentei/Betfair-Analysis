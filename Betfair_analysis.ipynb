{
 "cells": [
  {
   "cell_type": "code",
   "execution_count": 1,
   "metadata": {
    "collapsed": true
   },
   "outputs": [],
   "source": [
    "import requests\n",
    "import bz2\n",
    "import json"
   ]
  },
  {
   "cell_type": "code",
   "execution_count": 101,
   "metadata": {
    "collapsed": true
   },
   "outputs": [],
   "source": [
    "#http://docs.python-requests.org/en/master/user/quickstart/\n",
    "#https://github.com/liampauling/betfair/blob/master/betfairlightweight/endpoints/historic.py"
   ]
  },
  {
   "cell_type": "code",
   "execution_count": 100,
   "metadata": {
    "collapsed": true
   },
   "outputs": [],
   "source": [
    "teams = ['ADO Den Haag', 'Ajax', 'AZ Alkmaar', 'De Graafschap', 'Emmen', 'Excelsior', 'Feyenoord', 'Fortuna Sittard', \n",
    "         'Groningen', 'Heerenveen','Heracles', 'Breda', 'Zwolle', 'PSV', 'Utrecht', 'Vitesse', 'VVV','Willem II']"
   ]
  },
  {
   "cell_type": "code",
   "execution_count": 12,
   "metadata": {
    "collapsed": true
   },
   "outputs": [],
   "source": [
    "url = 'http://historicdata.betfair.com/api/DownloadListOfFiles'\n",
    "headers = {'ssoid': 'TOKEN'}\n",
    "\n",
    "data = {\"sport\":\"soccer\",\n",
    "    \"plan\":\"Basic Plan\",\n",
    "    \"fromDay\" : 1,\n",
    "    \"fromMonth\": 9,\n",
    "    \"fromYear\" : 2018,\n",
    "    \"toDay\": 30,\n",
    "    \"toMonth\" : 9,\n",
    "    \"toYear\": 2018,\n",
    "    \"eventId\": None,\n",
    "    \"eventName\": None,\n",
    "    \"marketTypesCollection\": [\"MATCH_ODDS\"],\n",
    "    \"countriesCollection\" : [\"NL\"],\n",
    "    \"fileTypeCollection\" : [\"M\"]}"
   ]
  },
  {
   "cell_type": "code",
   "execution_count": 19,
   "metadata": {},
   "outputs": [],
   "source": [
    "# download the filenames\n",
    "response = requests.request(\"POST\", url, headers=headers,data = data)"
   ]
  },
  {
   "cell_type": "code",
   "execution_count": 38,
   "metadata": {},
   "outputs": [],
   "source": [
    "file_names = response.text[1:-1].split(',')"
   ]
  },
  {
   "cell_type": "code",
   "execution_count": 42,
   "metadata": {},
   "outputs": [
    {
     "name": "stdout",
     "output_type": "stream",
     "text": [
      "\"/data/xds/historic/BASIC/28880276/1.147452117.bz2\"\n",
      "\"/data/xds/historic/BASIC/28868359/1.147085739.bz2\"\n",
      "There are 152 files\n"
     ]
    }
   ],
   "source": [
    "print(file_names[0])\n",
    "print(file_names[1])\n",
    "print(\"There are {} files\".format(len(file_names)))"
   ]
  },
  {
   "cell_type": "code",
   "execution_count": 93,
   "metadata": {},
   "outputs": [],
   "source": [
    "# now download the actual data\n",
    "file_name = file_names[0][1:-1]\n",
    "\n",
    "for i in file_names:\n",
    "    \n",
    "    file_name = i[1:-1]\n",
    "    \n",
    "    r = requests.get(\"http://historicdata.betfair.com/api/DownloadFile\",\n",
    "                params={'filePath': file_name},\n",
    "                headers=headers,\n",
    "                stream=True)\n",
    "\n",
    "    local_filename = 'data/' + file_name.split(\"/\")[-1]\n",
    "\n",
    "    with open(local_filename, 'wb') as f:\n",
    "        for chunk in r.iter_content(chunk_size=1024):\n",
    "            if chunk:\n",
    "                f.write(chunk)"
   ]
  },
  {
   "cell_type": "code",
   "execution_count": 96,
   "metadata": {},
   "outputs": [
    {
     "name": "stdout",
     "output_type": "stream",
     "text": [
      "Vitesse Arnhem U19 v Sparta Rotterdam U19\n",
      "VVV v Heerenveen\n",
      "PSV v Willem II\n",
      "Excelsior v ADO Den Haag\n",
      "Fortuna Sittard v Utrecht\n",
      "Groningen v Zwolle\n",
      "FC Lienden v De Treffers\n",
      "Heracles v AZ Alkmaar\n",
      "Vitesse v Ajax\n",
      "Feyenoord v Breda\n",
      "RKC Waalwijk (Res) v Willem II Tilburg (Res)\n",
      "Burton v Walsall\n",
      "Oxford Utd v Fulham U21\n",
      "Grimsby v Notts Co\n",
      "Oldham v Barnsley\n",
      "Southend v Cambridge Utd\n",
      "Scunthorpe v Wolves U21\n",
      "Portsmouth v Gillingham\n",
      "Northampton v Wycombe\n",
      "Luton v Brighton U21\n",
      "Rochdale v Bury\n",
      "Macclesfield v Blackpool\n",
      "Carlisle v Morecambe\n",
      "Forest Green v Cheltenham\n",
      "Charlton v AFC Wimbledon\n",
      "Colchester v Southampton U21\n",
      "Tranmere v Crewe\n",
      "Crawley Town v Tottenham U21\n",
      "Sunderland v Stoke U21\n",
      "MK Dons v Peterborough\n",
      "Excelsior-Bdrect (W) v ADO Den Haag (W)\n",
      "Twente (W) v PSV (W)\n",
      "Ajax (W) v Zwolle (W)\n",
      "VV Alkmaar (W) v Achilles 29 (W)\n",
      "Dordrecht v Telstar\n",
      "Cambuur v Waalwijk\n",
      "Jong Utrecht v Jong PSV\n",
      "Almere City v MVV Maastricht\n",
      "Go Ahead Eagles v Volendam\n",
      "Helmond Sport v Den Bosch\n",
      "Sparta Rotterdam v FC Eindhoven\n",
      "VVSB v HHC\n",
      "Twente v TOP Oss\n",
      "Roda JC v NEC Nijmegen\n",
      "De Treffers v Barendrecht\n",
      "Koninklijke HFC v AFC\n",
      "Jong AZ Alkmaar v Jong Ajax\n",
      "FC Dordrecht (Res) v Roda JC Kerkrade (Res)\n",
      "Netherlands U21 v Scotland U21\n",
      "Achilles 29 (W) v Heerenveen (W)\n",
      "PSV (W) v VV Alkmaar (W)\n",
      "Zwolle (W) v Twente (W)\n",
      "Volendam v TOP Oss\n",
      "FC Eindhoven v MVV Maastricht\n",
      "Dordrecht v Twente\n",
      "Cambuur v Telstar\n",
      "Waalwijk v Roda JC\n",
      "Jong AZ Alkmaar v Go Ahead Eagles\n",
      "NEC Nijmegen v Jong PSV\n",
      "SC Cambuur (Res) v Twente (Res)\n",
      "Jong Ajax v Helmond Sport\n",
      "ADO Den Haag (Res) v RKC Waalwijk (Res)\n",
      "Helmond Sport (Res) v FC Dordrecht (Res)\n",
      "De Graafschap (Res) v Heracles Almelo (Res)\n",
      "Willem II Tilburg (Res) v FC Eindhoven (Res)\n",
      "Roda JC Kerkrade (Res) v NAC Breda (Res)\n",
      "SBV Excelsior (Res) v Fortuna Sittard (Res)\n",
      "Go Ahead Eagles (Res) v FC Emmen (Res)\n",
      "Almere City v Jong Utrecht\n",
      "Ajax U19 v AEK Athens U19\n",
      "Ajax v AEK Athens\n",
      "FC Viktoria Plzen v CSKA Moscow\n",
      "Twente (W) v Ajax (W)\n",
      "Excelsior-Bdrect (W) v Achilles 29 (W)\n",
      "Heerenveen (W) v PSV (W)\n",
      "VV Alkmaar (W) v Zwolle (W)\n",
      "Roda JC v FC Eindhoven\n",
      "MVV Maastricht v Dordrecht\n",
      "TOP Oss v Sparta Rotterdam\n",
      "Den Bosch v Almere City\n",
      "Jong PSV v Volendam\n",
      "Helmond Sport v NEC Nijmegen\n",
      "Heracles v De Graafschap\n",
      "Jong Utrecht v Cambuur\n",
      "Telstar v Twente\n",
      "Go Ahead Eagles v Jong Ajax\n",
      "Waalwijk v Jong AZ Alkmaar\n",
      "Fortuna Sittard v Willem II\n",
      "VVV v Breda\n",
      "Excelsior v Heerenveen\n",
      "Vitesse v ADO Den Haag\n",
      "Groningen v AZ Alkmaar\n",
      "Emmen v Zwolle\n",
      "PSV v Ajax\n",
      "Ajax U19 v PSV U19\n",
      "AFC v Telstar\n",
      "Waalwijk v Breda\n",
      "Odin 59 v FC Lisse\n",
      "Rijnsburgse Boys v TOP Oss\n",
      "Spakenburg v sv DFS\n",
      "DVS 33 v Roda JC\n",
      "Noordwijk v Sparta Rotterdam\n",
      "Westlandia v VVV\n",
      "Den Bosch v Heracles\n",
      "Volendam v Willem II\n",
      "Helmond Sport v Fortuna Sittard\n",
      "VVSB v De Graafschap\n",
      "Go Ahead Eagles v FC Eindhoven\n",
      "Koninklijke HFC v Harkemase Boys\n",
      "Almere City v Dordrecht\n",
      "Kozakken Boys v ONS Sneek\n",
      "Scheveningen v Cambuur\n",
      "Excelsior v NEC Nijmegen\n",
      "FC Groningen U19 v NEC Nijmegen U19\n",
      "NAC Breda U19 v ADO Den Haag U19\n",
      "Feyenoord U19 v FC Utrecht U19\n",
      "Vitesse Arnhem U19 v Willem II Tilburg U19\n",
      "Eemdijk v ASWH\n",
      "Groene Ster v TEC\n",
      "OJC Rosmalen v ADO Den Haag\n",
      "DOVO v SV Urk\n",
      "Staphorst v Zwolle\n",
      "Katwijk v Heerenveen\n",
      "RKAV Volendam v Vitesse\n",
      "HVV Te Werve v Ajax\n",
      "Alcides v AZ Alkmaar\n",
      "OFC Oostzaan v Emmen\n",
      "Groningen v Twente\n",
      "Gemert v Feyenoord\n",
      "Utrecht v MVV Maastricht\n",
      "Zwolle (W) v Heerenveen (W)\n",
      "ADO Den Haag (W) v Twente (W)\n",
      "PSV (W) v Excelsior-Bdrect (W)\n",
      "Almere City v Waalwijk\n",
      "Sparta Rotterdam v Dordrecht\n",
      "NEC Nijmegen v Go Ahead Eagles\n",
      "Helmond Sport v Volendam\n",
      "Den Bosch v Jong AZ Alkmaar\n",
      "Cambuur v Roda JC\n",
      "Jong Ajax v FC Eindhoven\n",
      "Telstar v TOP Oss\n",
      "Heerenveen v ADO Den Haag\n",
      "Breda v PSV\n",
      "Excelsior v VVV\n",
      "Fortuna Sittard v Ajax\n",
      "Heracles v Emmen\n",
      "Ajax (W) v VV Alkmaar (W)\n",
      "Twente v Jong PSV\n",
      "De Graafschap v Willem II\n",
      "Groningen v Utrecht\n",
      "AZ Alkmaar v Zwolle\n",
      "Feyenoord v Vitesse\n"
     ]
    }
   ],
   "source": [
    "for i in file_names:\n",
    "    #print(i)\n",
    "    file_name = i[1:-1]\n",
    "    local_filename = 'data/' + file_name.split(\"/\")[-1]\n",
    "    \n",
    "    bz_file = bz2.BZ2File(local_filename)\n",
    "    line_list = bz_file.readlines()\n",
    "    \n",
    "    # only interested in the first line for now\n",
    "    a = line_list[0].decode('ASCII').strip()\n",
    "    d = json.loads(a)\n",
    "    print(d['mc'][0]['marketDefinition']['eventName'])"
   ]
  }
 ],
 "metadata": {
  "kernelspec": {
   "display_name": "Python [conda root]",
   "language": "python",
   "name": "conda-root-py"
  },
  "language_info": {
   "codemirror_mode": {
    "name": "ipython",
    "version": 3
   },
   "file_extension": ".py",
   "mimetype": "text/x-python",
   "name": "python",
   "nbconvert_exporter": "python",
   "pygments_lexer": "ipython3",
   "version": "3.5.3"
  }
 },
 "nbformat": 4,
 "nbformat_minor": 2
}
